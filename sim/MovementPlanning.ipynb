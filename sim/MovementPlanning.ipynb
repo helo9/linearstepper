{
 "cells": [
  {
   "cell_type": "code",
   "execution_count": 1,
   "id": "00cf41a2-b519-4cbb-8b47-63d59a5caea0",
   "metadata": {},
   "outputs": [],
   "source": [
    "import numpy as np"
   ]
  },
  {
   "cell_type": "markdown",
   "id": "f17522c8-9317-454d-9b36-6401fd30e358",
   "metadata": {},
   "source": [
    "## Model\n",
    "\n",
    "We want to control a linear motion, driven by a stepper motor.\n",
    "The rotational movement of the stepper motor is translated into a translatory movement by means of a threaded rod.\n",
    "Given a number of stepper steps $n$ the translation $x$ can be determined using\n",
    "\n",
    "$x = m \\cdot n$.\n",
    "\n",
    "$m$ is the transmission ratio.\n",
    "Dividing both sides by $\\Delta t$, which represents the time interval it took to accomplish the movement, yields\n",
    "\n",
    "$v = m \\cdot f_\\mathrm{stepper}$.\n",
    "\n",
    "This equation relates the velocity $v = \\partial x / \\partial t$ with the step frequency $f_\\mathrm{stepper}$.\n",
    "A quick research shows, that often a trapezoidal velocity profile is used.\n",
    "Thereby, we get an acceleration phase, a steady phase, and a deacceleration phase.\n",
    "During acceleration, the velocity follows\n",
    "\n",
    "$v_\\mathrm{set} (t) = a_\\mathrm{set} \\cdot t $\n",
    "\n",
    "We can calculate the necessary stepper frequency to accomplish that velocity using\n",
    "\n",
    "$f_\\mathrm{stepper} = v_\\mathrm{set} / m$\n",
    "\n",
    "Pulses in that frequency are generated using the PWM module of our Atmega328 microcontroller in TBD mode.\n",
    "The microcontroller is running at clock speed $f_\\mathrm{clk}$.\n",
    "A prescaler in the timer module allows to adapt this frequency by division using one of the predefined prescaler $p$ values 8, 32, 64, 128, 256, or 1024.\n",
    "We configure the timer module to increment its counter with that frequency $f_\\mathrm{timer}$ and restart from zero when a specific value $k$ between 1 and 256 is reached.\n",
    "Simultaneously, an interrupt is triggered, which can be used to initiate the stepper pulse and update the reset value $k$.\n",
    "A second timer started, finishing the stepper pulse at expiration.\n",
    "\n",
    "$f_\\mathrm{stepper} = \\frac{f_\\mathrm{clk}}{k \\cdot p}$\n",
    "\n",
    "The reset count $k$ is what we need to calculate, so we end up with\n",
    "\n",
    "$k(t) = f_\\mathrm{clk} / \\left( f_\\mathrm{stepper} \\cdot p \\right) = m \\cdot f_\\mathrm{clk} / \\left( a  \\cdot p \\cdot t \\right)$\n",
    "\n",
    "We need k for specific times, not continuously, and call these values $k_0 = k(t_0)$, $k_1 = k(t_1)$, and so on.\n",
    "These times are defined as follows \n",
    "\n",
    "$t_i = t_0 + \\sum_{j=0}^{i-1} T_j$, with $t_0 = 0$ and $T_j = 1 / f_\\mathrm{stepper}(t_j)= 1 / f_{\\mathrm{stepper},j}$\n"
   ]
  },
  {
   "cell_type": "markdown",
   "id": "2525158b-9dc5-475d-81ee-cf6094a4409c",
   "metadata": {},
   "source": [
    "## Parameters"
   ]
  },
  {
   "cell_type": "code",
   "execution_count": 2,
   "id": "141bad01-86a9-46de-b122-7bf986839c09",
   "metadata": {},
   "outputs": [],
   "source": [
    "# Transmission ratio m\n",
    "m = 3 / 8 / 4500\n",
    "\n",
    "# acceleration and deacceleration set point\n",
    "a = 30\n",
    "\n",
    "# velocity set point\n",
    "v_set = 10\n",
    "\n",
    "# position set point\n",
    "x_set = 15\n",
    "\n",
    "# clock frequency (atmega)\n",
    "f_clk = 16e6 / 8\n",
    "\n",
    "# counter with (8bit)\n",
    "n_cnt = 256"
   ]
  },
  {
   "cell_type": "markdown",
   "id": "5d481fd8-0e60-4f64-b882-5e153c6847a5",
   "metadata": {},
   "source": [
    "## Movement Planning"
   ]
  },
  {
   "cell_type": "markdown",
   "id": "c31b9894",
   "metadata": {},
   "source": [
    "### Acceleration phase - Variant 1 - Iterative\n",
    "\n",
    "Working good with floats, not so good with integers on Atmega microcontroller :("
   ]
  },
  {
   "cell_type": "code",
   "execution_count": 14,
   "id": "2dd45a0c-2aab-4a51-aec8-329c4e18f514",
   "metadata": {},
   "outputs": [],
   "source": [
    "k = (256-1)\n",
    "\n",
    "f_s = []\n",
    "\n",
    "movement_plan_acceleration = [\n",
    "    [k, 1]\n",
    "]\n",
    "\n",
    "# \n",
    "f = f_clk / k\n",
    "t = 0.0\n",
    "\n",
    "f_s.append(f)\n",
    "\n",
    "while (m * f_clk / movement_plan_acceleration[-1][0]) < v_set:\n",
    "    \n",
    "    Δt = 1/f\n",
    "    \n",
    "    t += Δt\n",
    "\n",
    "    f = f +  a / m / f\n",
    "\n",
    "    f_s.append(f)\n",
    "\n",
    "    k = np.round(f_clk / f)\n",
    "\n",
    "    if k == movement_plan_acceleration[-1][0] and movement_plan_acceleration[-1][1] < 256:\n",
    "        movement_plan_acceleration[-1][1] += 1\n",
    "    else:\n",
    "        movement_plan_acceleration.append([k, 1])"
   ]
  },
  {
   "cell_type": "markdown",
   "id": "8fb3971b",
   "metadata": {},
   "source": [
    "###  Acceleration phase - Variant 2: Global definition\n",
    "\n",
    "works with floats and integers (below)"
   ]
  },
  {
   "cell_type": "code",
   "execution_count": 15,
   "id": "01b5a78a-1949-478f-912b-71603c9197e4",
   "metadata": {},
   "outputs": [],
   "source": [
    "k = 256\n",
    "\n",
    "f_s = []\n",
    "\n",
    "movement_plan_acceleration = [\n",
    "    [k, 1]\n",
    "]\n",
    "\n",
    "# \n",
    "f = f_clk / k\n",
    "k_sum = k\n",
    "t_0 = m * f_clk / ( a * k)\n",
    "\n",
    "f_s.append(f)\n",
    "\n",
    "while (m * f_clk / movement_plan_acceleration[-1][0]) < v_set:\n",
    "\n",
    "    k = np.round(f_clk * m / ( a * (t_0 + k_sum/f_clk)))\n",
    "\n",
    "    k_sum += k\n",
    "    \n",
    "    if k == movement_plan_acceleration[-1][0] and movement_plan_acceleration[-1][1] < 256:\n",
    "        movement_plan_acceleration[-1][1] += 1\n",
    "    else:\n",
    "        movement_plan_acceleration.append([k, 1])"
   ]
  },
  {
   "cell_type": "code",
   "execution_count": 18,
   "id": "8a9c62b6-9a5f-42d2-85f0-9741949cfc93",
   "metadata": {
    "scrolled": true
   },
   "outputs": [],
   "source": [
    "k = 256\n",
    "\n",
    "f_s = []\n",
    "\n",
    "movement_plan_acceleration = [\n",
    "    [k, 1]\n",
    "]\n",
    "\n",
    "# \n",
    "f_clk100 = np.uint16(np.round(f_clk / 100))\n",
    "k_sum = np.uint32(k)\n",
    "t_0 =  m * f_clk / ( a * k)\n",
    "\n",
    "while (m * f_clk / movement_plan_acceleration[-1][0]) < v_set:\n",
    "\n",
    "    tmp = np.uint32(55555) / np.uint32((10* 1000*t_0) + (10*k_sum/(f_clk/1000)))\n",
    "    k = np.uint16(tmp) #np.uint16(tmp)\n",
    "\n",
    "    k_sum += k\n",
    "    \n",
    "    if k == movement_plan_acceleration[-1][0] and movement_plan_acceleration[-1][1] < 256:\n",
    "        movement_plan_acceleration[-1][1] += 1\n",
    "    else:\n",
    "        movement_plan_acceleration.append([k, 1])"
   ]
  },
  {
   "cell_type": "code",
   "execution_count": 52,
   "id": "acc938af-c8e4-4735-9118-cff2ade372b8",
   "metadata": {},
   "outputs": [
    {
     "data": {
      "text/plain": [
       "284"
      ]
     },
     "execution_count": 52,
     "metadata": {},
     "output_type": "execute_result"
    }
   ],
   "source": [
    "len(movement_plan_acceleration)"
   ]
  },
  {
   "cell_type": "markdown",
   "id": "809f80b1",
   "metadata": {},
   "source": [
    "### Steady Phase"
   ]
  },
  {
   "cell_type": "code",
   "execution_count": 37,
   "id": "50e6c233-6337-4530-acb6-efa1bb611ffa",
   "metadata": {},
   "outputs": [],
   "source": [
    "\n",
    "len_acc_part = len(movement_plan_acceleration)\n",
    "x_acc = m * sum((movement[1] for movement in movement_plan_acceleration))\n",
    "\n",
    "steps_steady_left = (x_set - 2 * x_acc) // m\n",
    "n_steady = movement_plan_acceleration[-1][0]\n",
    "\n",
    "movement_plan_steady = [\n",
    "    [n_steady, 1]\n",
    "]\n",
    "\n",
    "while steps_steady_left > 0:\n",
    "\n",
    "    if n_steady == movement_plan_steady[-1][0] and movement_plan_steady[-1][1] < 256:\n",
    "        movement_plan_steady[-1][1] += 1\n",
    "    else:\n",
    "        movement_plan_steady.append([n_steady, 1])\n",
    "    \n",
    "    steps_steady_left -= 1"
   ]
  },
  {
   "cell_type": "code",
   "execution_count": 38,
   "id": "03f76fbb",
   "metadata": {},
   "outputs": [
    {
     "data": {
      "text/plain": [
       "551"
      ]
     },
     "execution_count": 38,
     "metadata": {},
     "output_type": "execute_result"
    }
   ],
   "source": [
    "len(movement_plan_steady)"
   ]
  },
  {
   "cell_type": "code",
   "execution_count": 43,
   "id": "ffd4a1e4",
   "metadata": {},
   "outputs": [],
   "source": [
    "len_acc_part = len(movement_plan_acceleration)\n",
    "x_acc = m * sum((movement[1] for movement in movement_plan_acceleration))\n",
    "\n",
    "steps_steady_left = (x_set - 2 * x_acc) // m\n",
    "n_steady = movement_plan_acceleration[-1][0]\n",
    "\n",
    "movement_plan_steady = int(steps_steady_left//256) * [(n_steady, 256)] + [(n_steady, int(steps_steady_left%256))]"
   ]
  },
  {
   "cell_type": "code",
   "execution_count": 44,
   "id": "9b8a02e4",
   "metadata": {},
   "outputs": [
    {
     "data": {
      "text/plain": [
       "551"
      ]
     },
     "execution_count": 44,
     "metadata": {},
     "output_type": "execute_result"
    }
   ],
   "source": [
    "len(movement_plan_steady)"
   ]
  },
  {
   "cell_type": "markdown",
   "id": "d330f024",
   "metadata": {},
   "source": [
    "### Deacceleration"
   ]
  },
  {
   "cell_type": "code",
   "execution_count": 64,
   "id": "1839de5b-37fa-4f79-82d5-5fa281cb9366",
   "metadata": {
    "scrolled": true
   },
   "outputs": [],
   "source": [
    "movement_plan_deaccleration = [\n",
    "    [n_steady, 1]\n",
    "]\n",
    "\n",
    "k_sum_before = k_sum\n",
    "while True:\n",
    "\n",
    "    tmp = m * f_clk / ( v_set - a * (k_sum-k_sum_before)/f_clk)\n",
    "    k = np.uint16(tmp)\n",
    "\n",
    "    if k > 256:\n",
    "        break\n",
    "    \n",
    "    k_sum += k\n",
    "    \n",
    "    if k == movement_plan_deaccleration[-1][0] and movement_plan_deaccleration[-1][1] < 256:\n",
    "        movement_plan_deaccleration[-1][1] += 1\n",
    "    else:\n",
    "        movement_plan_deaccleration.append([k, 1])"
   ]
  },
  {
   "cell_type": "code",
   "execution_count": 65,
   "id": "b1255f6e",
   "metadata": {},
   "outputs": [
    {
     "data": {
      "text/plain": [
       "290"
      ]
     },
     "execution_count": 65,
     "metadata": {},
     "output_type": "execute_result"
    }
   ],
   "source": [
    "len(movement_plan_deaccleration)"
   ]
  },
  {
   "cell_type": "code",
   "execution_count": 62,
   "id": "1839de5b-37fa-4f79-82d5-5fa281cb9366",
   "metadata": {
    "scrolled": true
   },
   "outputs": [],
   "source": [
    "movement_plan_deaccleration = [\n",
    "    [n_steady, 1]\n",
    "]\n",
    "\n",
    "k_sum_before = k_sum\n",
    "while True:\n",
    "\n",
    "    tmp = np.uint16(100 * m * f_clk) / ((np.uint16(100 *  v_set) -  np.uint16(a) * np.uint32((k_sum-k_sum_before) / 100)/np.uint16(f_clk/10000)))\n",
    "    k = np.uint16(tmp)\n",
    "\n",
    "    if k > 256:\n",
    "        break\n",
    "    \n",
    "    k_sum += k\n",
    "    \n",
    "    if k == movement_plan_deaccleration[-1][0] and movement_plan_deaccleration[-1][1] < 256:\n",
    "        movement_plan_deaccleration[-1][1] += 1\n",
    "    else:\n",
    "        movement_plan_deaccleration.append([k, 1])"
   ]
  },
  {
   "cell_type": "code",
   "execution_count": null,
   "id": "4bce5368",
   "metadata": {},
   "outputs": [],
   "source": [
    "def calc_deaccel(k_sum_deaccel):\n",
    "    tmp = np.uint16(100 * m * f_clk) / (np.uint16(100 *  v_set) -  np.uint16(a) * np.uint32((k_sum_deaccel/ 100)/np.uint16(f_clk/10000)))\n",
    "    k = np.uint16(tmp)"
   ]
  },
  {
   "cell_type": "code",
   "execution_count": 69,
   "id": "074357f2",
   "metadata": {},
   "outputs": [
    {
     "data": {
      "text/plain": [
       "150.0"
      ]
     },
     "execution_count": 69,
     "metadata": {},
     "output_type": "execute_result"
    }
   ],
   "source": [
    "a / f_clk * 1e7"
   ]
  },
  {
   "cell_type": "code",
   "execution_count": 66,
   "id": "bbac80b2",
   "metadata": {},
   "outputs": [
    {
     "data": {
      "text/plain": [
       "290"
      ]
     },
     "execution_count": 66,
     "metadata": {},
     "output_type": "execute_result"
    }
   ],
   "source": [
    "len(movement_plan_deaccleration)"
   ]
  },
  {
   "cell_type": "markdown",
   "id": "84222514",
   "metadata": {},
   "source": [
    "### Combine all phases"
   ]
  },
  {
   "cell_type": "code",
   "execution_count": 46,
   "id": "a25ab637",
   "metadata": {},
   "outputs": [],
   "source": [
    "movement_plan = movement_plan_acceleration + movement_plan_steady + movement_plan_deaccleration"
   ]
  },
  {
   "cell_type": "markdown",
   "id": "e835f939-2548-4ca4-bba2-50b2be67900b",
   "metadata": {},
   "source": [
    "## Display Movement"
   ]
  },
  {
   "cell_type": "code",
   "execution_count": 47,
   "id": "4a0fd499-e04a-4770-95ae-d08c28cd929f",
   "metadata": {},
   "outputs": [],
   "source": [
    "steps = sum([cnt*[n] for n, cnt in movement_plan], [])"
   ]
  },
  {
   "cell_type": "code",
   "execution_count": 48,
   "id": "9917e43a-5e8a-44b5-897e-b2ae096d766b",
   "metadata": {},
   "outputs": [
    {
     "data": {
      "text/plain": [
       "180824"
      ]
     },
     "execution_count": 48,
     "metadata": {},
     "output_type": "execute_result"
    }
   ],
   "source": [
    "len(steps)"
   ]
  },
  {
   "cell_type": "code",
   "execution_count": 49,
   "id": "fcc06cc4-2f6b-4f39-a36c-47854cb31d2e",
   "metadata": {},
   "outputs": [],
   "source": [
    "t_s = []\n",
    "v_s = []\n",
    "x_s = []\n",
    "\n",
    "x = 0\n",
    "t = 0\n",
    "\n",
    "for n in steps:\n",
    "    T = n / f_clk\n",
    "    t += T\n",
    "    x += m\n",
    "\n",
    "    t_s.append(t)\n",
    "    v_s.append(m/T)\n",
    "    x_s.append(x)"
   ]
  },
  {
   "cell_type": "code",
   "execution_count": 50,
   "id": "2bcc2189-211b-4432-adfe-4f03332ab38e",
   "metadata": {},
   "outputs": [],
   "source": [
    "from matplotlib import pyplot as plt"
   ]
  },
  {
   "cell_type": "code",
   "execution_count": 51,
   "id": "db5b6d6c-bbf0-444f-bad4-09d0e0668bc8",
   "metadata": {},
   "outputs": [
    {
     "data": {
      "image/png": "[encoded data removed]",
      "text/plain": [
       "<Figure size 640x480 with 2 Axes>"
      ]
     },
     "metadata": {},
     "output_type": "display_data"
    }
   ],
   "source": [
    "fig, [ax1, ax2] =  plt.subplots(2,1)\n",
    "\n",
    "ax1.plot(t_s, v_s)\n",
    "\n",
    "ax1.set_ylim((0,None))\n",
    "\n",
    "ax1.set_xlabel(\"Time in s\")\n",
    "ax1.set_ylabel(\"Velocity in mm/s\")\n",
    "ax1.grid()\n",
    "\n",
    "ax2.plot(t_s, x_s)\n",
    "\n",
    "ax2.set_ylim((0,None))\n",
    "\n",
    "ax2.set_xlabel(\"Time in s\")\n",
    "ax2.set_ylabel(\"Position in mm\")\n",
    "ax2.grid()\n",
    "\n",
    "plt.tight_layout()"
   ]
  },
  {
   "cell_type": "code",
   "execution_count": 74,
   "id": "169d6cb5-0246-4271-bdef-b43625599412",
   "metadata": {},
   "outputs": [
    {
     "data": {
      "text/plain": [
       "(7.999999999896978e-06, 1.7465220000012005, 14.37313693977219)"
      ]
     },
     "execution_count": 74,
     "metadata": {},
     "output_type": "execute_result"
    }
   ],
   "source": [
    "np.diff(t_s).min(), np.max(t_s), np.log(np.max(t_s)*1e6)"
   ]
  },
  {
   "cell_type": "code",
   "execution_count": 18,
   "id": "a8e45169-ef8c-4841-825c-9bbaa1c23b66",
   "metadata": {},
   "outputs": [
    {
     "data": {
      "text/plain": [
       "12.102122246301802"
      ]
     },
     "execution_count": 18,
     "metadata": {},
     "output_type": "execute_result"
    }
   ],
   "source": [
    "np.log(len(steps))\n",
    "np.log(len(steps))"
   ]
  },
  {
   "cell_type": "code",
   "execution_count": null,
   "id": "c85c5c0e-c78d-44df-b54e-08e8c4001bd6",
   "metadata": {},
   "outputs": [],
   "source": []
  }
 ],
 "metadata": {
  "kernelspec": {
   "display_name": "linstep",
   "language": "python",
   "name": "linstep"
  },
  "language_info": {
   "codemirror_mode": {
    "name": "ipython",
    "version": 3
   },
   "file_extension": ".py",
   "mimetype": "text/x-python",
   "name": "python",
   "nbconvert_exporter": "python",
   "pygments_lexer": "ipython3",
   "version": "3.11.5"
  }
 },
 "nbformat": 4,
 "nbformat_minor": 5
}
