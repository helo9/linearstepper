{
 "cells": [
  {
   "cell_type": "code",
   "execution_count": 2,
   "id": "00cf41a2-b519-4cbb-8b47-63d59a5caea0",
   "metadata": {},
   "outputs": [],
   "source": [
    "import numpy as np\n",
    "from c_lang_integers import CUInt, UInt8, UInt16, UInt32"
   ]
  },
  {
   "cell_type": "markdown",
   "id": "f17522c8-9317-454d-9b36-6401fd30e358",
   "metadata": {},
   "source": [
    "# Modeling\n",
    "\n",
    "We want to steer a linear motion of a camera by mobile phone or computer.\n",
    "The overall system consists of an Arduino UNO, a stepper motor with driver and a linear guide with thread drive.\n",
    "\n",
    "![Model Overview](modeling.svg)\n",
    "\n",
    "(Those components are chosen because I had them lying around, not because they are the best fit.)\n",
    "\n",
    "We roll up the system from its end, the camera mount.\n",
    "The screw drive is moving the camera mount and the rotation of the screw drive is driven by the stepper motor.\n",
    "We assume 3 mm of linear  movement per revolution.\n",
    "The stepper motor needs 200 steps per revolution, and the stepper motor in use breaks this down into even more micro steps, so we end up with 1600 steps per revolution.\n",
    "We summarize those relationships in the formula \n",
    "\n",
    "$x = m \\cdot n$.\n",
    "\n",
    "The variable $x$ is the position, $m$ denotes the overall transmission ratio and $n$ is the number of steps done.\n",
    "The number of steps is prescribed by our microcontroller (Arduino, ATMEGA 328P).\n",
    "Besides the number, we can control the frequency $f_\\mathrm{stepper}$ of the steps, which prescribes the velocity $v$ of the linear movement.\n",
    "Dividing the previous formula by the time interval $\\Delta t$ the stepper needed to do $n$ steps, moving the camera mount by distance $x$, we get\n",
    "\n",
    "$v = m \\cdot f_\\mathrm{stepper}$.\n",
    "\n",
    "The microcontroller has to generate pulses with a constant frequency.\n",
    "\n",
    "![Constant Frequency Pulses](constant_pulses.svg)\n",
    "\n",
    "The signal can be generated with the timer peripheral and in principal we are done.\n",
    "We use CDT mode with one timer to generate the rate and another timer to determine the pulse length.\n",
    "With regards to the rate we introduce the number of timer cycles $k$, which is used as OCR value for the rate \n",
    "generation and can be calculated with\n",
    "\n",
    "$k = f_\\mathrm{timer} / f_\\mathrm{stepper}$\n",
    "\n",
    "Here the clock frequency $f_\\mathrm{timer}$ of the timer peripheral is used.\n",
    "\n",
    "However, with this solution, we are limited to a fixed velocity and this fixed velocity has to be rather slow.\n",
    "Otherwise, the motor might loose steps at start or does not run at all.\n",
    "\n",
    "To overcome these limitations, we introduce a trapezodial velocity profile, defined by the acceleration $a$.\n",
    "\n",
    "![A trapezodial velocity profile](trapezodial_velocity_profile.svg)\n",
    "\n",
    "Subsequently, we can not use a fixed timer configuration anymore, but have to adapt the configuration between each step during acceleration and deacceleration.\n",
    "Acceleration and deacceleration are more or less equal, we assess the acceleration only.\n",
    "Here we calculate the velocity with\n",
    "\n",
    "$v = a_\\mathrm{a} \\cdot \\left( t - t_0 \\right)$.\n",
    "\n",
    "With the constant $a_\\mathrm{a}$, we get the linear behavior over time $t$.\n",
    "We have to calculate $k$ and adapt it regularly, to mimic this behavior with our timer peripheral.\n",
    "$k$ can be calculated, using\n",
    "\n",
    "$k(t) = \\frac{f_\\mathrm{timer}}{f_\\mathrm{stepper}} = \\frac{f_\\mathrm{timer} \\cdot m}{a \\cdot (t - t_0)}$.\n",
    "\n",
    "Each step, takes a certain period of time.\n",
    "Therefore $k(t)$ has to be evaluated only at certain points in time.\n",
    "Eventually, we get a sequence $k_i$ instead of a function.\n",
    "With the sequence, $t$ becomes $t_i$ which can be determined with\n",
    "\n",
    "$t_i = \\frac{\\sum_{j=0}^{i-1} k_i}{f_\\mathrm{timer}}$\n",
    "\n",
    "This is a division of pretty big numbers, and keeps the microcontroller busy for some time.\n",
    "To circumvent compute time bottlenecks, we transform this problem into another counter.\n",
    "The value $k$ is correlated to the time a step takes ($\\Delta t = k / f_\\mathrm{timer}$) and to the velocity (see above).\n",
    "So, we can determine the number of stepper steps, the system can make for each value of $k$ before it has to adapt $k$ to maintain the acceleration.\n",
    "We call this value $k_\\mathrm{sumlim}(k)$ and it is determined by\n",
    "\n",
    "$k_\\mathrm{sumlim}(k) = \\frac{f_\\mathrm{timer} \\cdot m}{a} \\left( \\frac{1}{k_i} - \\frac{1}{k_i-1}\\right) $\n",
    "\n",
    "Now, all we have to to, is starting with some value of $k$, for example $k = 255$, repeat steps with this value until we reached $k_\\mathrm{sumlim}(k=255)$ and then decrement $k$ by one and do the same with the next value.\n",
    "Given $k$ is bigger than $k_\\mathrm{sumlim}(k)$ we skip $k$s until we consumed the sum of $k_\\mathrm{sumlim}$s is equal $k$."
   ]
  },
  {
   "cell_type": "markdown",
   "id": "2525158b-9dc5-475d-81ee-cf6094a4409c",
   "metadata": {},
   "source": [
    "## Parameters"
   ]
  },
  {
   "cell_type": "code",
   "execution_count": 3,
   "id": "141bad01-86a9-46de-b122-7bf986839c09",
   "metadata": {},
   "outputs": [],
   "source": [
    "# Transmission ratio m\n",
    "m = 3 / 1600\n",
    "\n",
    "# acceleration and deacceleration set point\n",
    "a = 30\n",
    "\n",
    "# velocity set point\n",
    "v_set = 10\n",
    "\n",
    "# position set point\n",
    "x_set = 15\n",
    "\n",
    "# clock frequency (atmega)\n",
    "f_clk = 16e6\n",
    "\n",
    "# counter with (8bit)\n",
    "n_cnt = 255\n",
    "\n",
    "# timer prescaler\n",
    "prescaler = 256\n",
    "\n",
    "# timer frequency\n",
    "f_timer = f_clk / prescaler"
   ]
  },
  {
   "cell_type": "markdown",
   "id": "d81fe338-4c79-4db3-a1ca-e180178b402c",
   "metadata": {},
   "source": [
    "## Prescale options"
   ]
  },
  {
   "cell_type": "code",
   "execution_count": 4,
   "id": "95b68839-f88e-49a9-ba28-d14bc521a006",
   "metadata": {},
   "outputs": [
    {
     "data": {
      "text/plain": [
       "array([[1.00000000e+00, 1.17647059e+02, 1.50000000e+04],\n",
       "       [8.00000000e+00, 1.47058824e+01, 1.87500000e+03],\n",
       "       [3.20000000e+01, 3.67647059e+00, 4.68750000e+02],\n",
       "       [6.40000000e+01, 1.83823529e+00, 2.34375000e+02],\n",
       "       [1.28000000e+02, 9.19117647e-01, 1.17187500e+02],\n",
       "       [2.56000000e+02, 4.59558824e-01, 5.85937500e+01],\n",
       "       [1.02400000e+03, 1.14889706e-01, 1.46484375e+01]])"
      ]
     },
     "execution_count": 4,
     "metadata": {},
     "output_type": "execute_result"
    }
   ],
   "source": [
    "prescale_values = [1, 8, 32, 64, 128, 256, 1024]\n",
    "\n",
    "f_timer_arr = f_clk / np.array(prescale_values)\n",
    "\n",
    "min_velocities = f_timer_arr / 255 * m\n",
    "max_velocities = f_timer_arr / 2 * m\n",
    "\n",
    "np.vstack((prescale_values, min_velocities, max_velocities)).T"
   ]
  },
  {
   "cell_type": "markdown",
   "id": "5e0ecd48-e87f-4d54-8d5f-8c6bc7474ecb",
   "metadata": {},
   "source": [
    "## Precalculated Steps"
   ]
  },
  {
   "cell_type": "code",
   "execution_count": 5,
   "id": "de1d0b00-69b7-4cef-bada-78ef575a1813",
   "metadata": {},
   "outputs": [],
   "source": [
    "Dks = {n: round(m * f_timer**2 / a  * (1/(n-1) - 1/n)) for n in range(255, 2, -1)}"
   ]
  },
  {
   "cell_type": "markdown",
   "id": "5d481fd8-0e60-4f64-b882-5e153c6847a5",
   "metadata": {},
   "source": [
    "## Movement Planning"
   ]
  },
  {
   "cell_type": "markdown",
   "id": "c31b9894",
   "metadata": {},
   "source": [
    "### Acceleration phase"
   ]
  },
  {
   "cell_type": "code",
   "execution_count": 6,
   "id": "33c85efb-18a3-410f-9a6a-1e016258eae0",
   "metadata": {
    "scrolled": true
   },
   "outputs": [],
   "source": [
    "k = UInt8(255)\n",
    "Dk = UInt16(Dks[k.value])\n",
    "p = UInt8(0)\n",
    "pk = UInt16(0)\n",
    "\n",
    "movement_plan = [\n",
    "    [k.value, 1]\n",
    "]\n",
    "\n",
    "# \n",
    "f_clk100 = UInt16(int(f_clk / 100))\n",
    "\n",
    "k_target = round(m * f_timer / v_set)\n",
    "\n",
    "assert k_target in Dks.keys()\n",
    "\n",
    "while k.value > k_target and p.value < x_set:\n",
    "\n",
    "    if Dk.value > k.value:\n",
    "        Dk -= k\n",
    "    else:\n",
    "        r = UInt16(k.value) - Dk\n",
    "        k -= 1\n",
    "        \n",
    "        while r.value > Dks[k.value]:\n",
    "            r -= Dks[k.value]\n",
    "            k -= 1\n",
    "\n",
    "        Dk = UInt16(Dks[k.value]) - r\n",
    "\n",
    "    if k.value == movement_plan[-1][0] and movement_plan[-1][1] < 255:\n",
    "        movement_plan[-1][1] += 1\n",
    "    else:\n",
    "        movement_plan.append([k.value, 1])\n",
    "\n",
    "    pk += 1\n",
    "\n",
    "    if (pk.value > 533):\n",
    "        pk = UInt16(0)\n",
    "        p += 1\n",
    "\n",
    "p_acc = CUInt(p)\n",
    "pk_acc = CUInt(pk)"
   ]
  },
  {
   "cell_type": "code",
   "execution_count": 7,
   "id": "9bcd0d48",
   "metadata": {},
   "outputs": [
    {
     "data": {
      "text/plain": [
       "81"
      ]
     },
     "execution_count": 7,
     "metadata": {},
     "output_type": "execute_result"
    }
   ],
   "source": [
    "len(movement_plan)"
   ]
  },
  {
   "cell_type": "markdown",
   "id": "809f80b1",
   "metadata": {},
   "source": [
    "### Steady Phase"
   ]
  },
  {
   "cell_type": "code",
   "execution_count": 8,
   "id": "1e7d2b94",
   "metadata": {},
   "outputs": [
    {
     "data": {
      "text/plain": [
       "(1, CInt(12,1))"
      ]
     },
     "execution_count": 8,
     "metadata": {},
     "output_type": "execute_result"
    }
   ],
   "source": [
    "p.value, k"
   ]
  },
  {
   "cell_type": "code",
   "execution_count": 9,
   "id": "50e6c233-6337-4530-acb6-efa1bb611ffa",
   "metadata": {},
   "outputs": [],
   "source": [
    "while (p.value + 1) < (x_set - p_acc.value) \\\n",
    "    or ((p.value + 1 == x_set - p_acc.value) and pk.value < 533 - pk_acc.value):\n",
    "\n",
    "    if k_target == movement_plan[-1][0] and movement_plan[-1][1] < 255:\n",
    "        movement_plan[-1][1] += 1\n",
    "    else:\n",
    "        movement_plan.append([k_target, 1])\n",
    "\n",
    "    pk += 1\n",
    "\n",
    "    if (pk.value > 533):\n",
    "        pk = UInt16(0)\n",
    "        p += 1\n"
   ]
  },
  {
   "cell_type": "code",
   "execution_count": 10,
   "id": "f16a7f31",
   "metadata": {},
   "outputs": [
    {
     "data": {
      "text/plain": [
       "105"
      ]
     },
     "execution_count": 10,
     "metadata": {},
     "output_type": "execute_result"
    }
   ],
   "source": [
    "len(movement_plan)"
   ]
  },
  {
   "cell_type": "code",
   "execution_count": 11,
   "id": "d08f7256",
   "metadata": {},
   "outputs": [
    {
     "data": {
      "text/plain": [
       "(CInt(13,1), CInt(246,2), CInt(1,1), CInt(287,2))"
      ]
     },
     "execution_count": 11,
     "metadata": {},
     "output_type": "execute_result"
    }
   ],
   "source": [
    "p, pk, p_acc, pk_acc"
   ]
  },
  {
   "cell_type": "markdown",
   "id": "d330f024",
   "metadata": {},
   "source": [
    "### Deacceleration"
   ]
  },
  {
   "cell_type": "code",
   "execution_count": 12,
   "id": "7170e360",
   "metadata": {},
   "outputs": [],
   "source": [
    "\n",
    "Dk = r\n",
    "\n",
    "while p.value < x_set:\n",
    "\n",
    "    if Dk.value > k.value:\n",
    "        Dk -= k\n",
    "    else:\n",
    "        r = UInt16(k.value) - Dk\n",
    "        k += 1\n",
    "        \n",
    "        while r.value > Dks[k.value] and k.value <= 254:\n",
    "            r -= Dks[k.value]\n",
    "            k += 1\n",
    "\n",
    "        Dk = UInt16(Dks[k.value]) - r\n",
    "\n",
    "    if k.value == movement_plan[-1][0] and movement_plan[-1][1] < 255:\n",
    "        movement_plan[-1][1] += 1\n",
    "    else:\n",
    "        movement_plan.append([k.value, 1])\n",
    "\n",
    "    pk += 1\n",
    "\n",
    "    if (pk.value > 533):\n",
    "        pk = UInt16(0)\n",
    "        p += 1"
   ]
  },
  {
   "cell_type": "markdown",
   "id": "e835f939-2548-4ca4-bba2-50b2be67900b",
   "metadata": {},
   "source": [
    "## Display Movement"
   ]
  },
  {
   "cell_type": "code",
   "execution_count": 13,
   "id": "4a0fd499-e04a-4770-95ae-d08c28cd929f",
   "metadata": {},
   "outputs": [],
   "source": [
    "steps = sum([cnt*[n] for n, cnt in movement_plan], [])"
   ]
  },
  {
   "cell_type": "code",
   "execution_count": 14,
   "id": "9917e43a-5e8a-44b5-897e-b2ae096d766b",
   "metadata": {},
   "outputs": [
    {
     "data": {
      "text/plain": [
       "8011"
      ]
     },
     "execution_count": 14,
     "metadata": {},
     "output_type": "execute_result"
    }
   ],
   "source": [
    "len(steps)"
   ]
  },
  {
   "cell_type": "code",
   "execution_count": 15,
   "id": "fcc06cc4-2f6b-4f39-a36c-47854cb31d2e",
   "metadata": {},
   "outputs": [],
   "source": [
    "t_s = []\n",
    "v_s = []\n",
    "x_s = []\n",
    "\n",
    "x = 0\n",
    "t = 0\n",
    "\n",
    "for n in steps:\n",
    "    T = n / f_timer\n",
    "    t += T\n",
    "    x += m\n",
    "\n",
    "    t_s.append(t)\n",
    "    v_s.append(m/T)\n",
    "    x_s.append(x)"
   ]
  },
  {
   "cell_type": "code",
   "execution_count": 16,
   "id": "2bcc2189-211b-4432-adfe-4f03332ab38e",
   "metadata": {},
   "outputs": [],
   "source": [
    "from matplotlib import pyplot as plt"
   ]
  },
  {
   "cell_type": "code",
   "execution_count": 17,
   "id": "db5b6d6c-bbf0-444f-bad4-09d0e0668bc8",
   "metadata": {},
   "outputs": [
    {
     "data": {
      "image/png": "[encoded data removed]",
      "text/plain": [
       "<Figure size 640x480 with 2 Axes>"
      ]
     },
     "metadata": {},
     "output_type": "display_data"
    }
   ],
   "source": [
    "fig, [ax1, ax2] =  plt.subplots(2,1)\n",
    "\n",
    "ax1.plot(t_s, v_s)\n",
    "\n",
    "ax1.set_ylim((0,None))\n",
    "\n",
    "ax1.set_xlabel(\"Time in s\")\n",
    "ax1.set_ylabel(\"Velocity in mm/s\")\n",
    "ax1.grid()\n",
    "\n",
    "ax2.plot(t_s, x_s)\n",
    "\n",
    "ax2.set_ylim((0,None))\n",
    "\n",
    "ax2.set_xlabel(\"Time in s\")\n",
    "ax2.set_ylabel(\"Position in mm\")\n",
    "ax2.grid()\n",
    "\n",
    "plt.tight_layout()"
   ]
  },
  {
   "cell_type": "markdown",
   "id": "cfdfb2c4",
   "metadata": {},
   "source": [
    "## Generate C Code"
   ]
  },
  {
   "cell_type": "markdown",
   "id": "ee170a88",
   "metadata": {},
   "source": [
    "### Movment Plan\n",
    "\n",
    "For testing purposes"
   ]
  },
  {
   "cell_type": "code",
   "execution_count": 36,
   "id": "606de83d",
   "metadata": {},
   "outputs": [
    {
     "name": "stdout",
     "output_type": "stream",
     "text": [
      "\n",
      "static constexpr TrajectoryBlock movment_plan[] = {\n",
      "\t{255, 1},\n",
      "\t{202, 1},\n",
      "\t{173, 1},\n",
      "\t{154, 1},\n",
      "\t{141, 1},\n",
      "\t{130, 1},\n",
      "\t{122, 1},\n",
      "\t{115, 1},\n",
      "\t{109, 1},\n",
      "\t{104, 1},\n",
      "\t{100, 1},\n",
      "\t{96, 1},\n",
      "\t{92, 1},\n",
      "\t{89, 1},\n",
      "\t{87, 1},\n",
      "\t{84, 1},\n",
      "\t{82, 1},\n",
      "\t{79, 1},\n",
      "\t{78, 1},\n",
      "\t{76, 1},\n",
      "\t{74, 1},\n",
      "\t{72, 1},\n",
      "\t{71, 1},\n",
      "\t{69, 1},\n",
      "\t{68, 1},\n",
      "\t{67, 1},\n",
      "\t{66, 1},\n",
      "\t{65, 1},\n",
      "\t{64, 1},\n",
      "\t{63, 1},\n",
      "\t{62, 1},\n",
      "\t{61, 1},\n",
      "\t{60, 1},\n",
      "\t{59, 1},\n",
      "\t{58, 1},\n",
      "\t{57, 2},\n",
      "\t{56, 1},\n",
      "\t{55, 1},\n",
      "\t{54, 2},\n",
      "\t{53, 2},\n",
      "\t{52, 1},\n",
      "\t{51, 2},\n",
      "\t{50, 2},\n",
      "\t{49, 2},\n",
      "\t{48, 3},\n",
      "\t{47, 2},\n",
      "\t{46, 3},\n",
      "\t{45, 2},\n",
      "\t{44, 3},\n",
      "\t{43, 3},\n",
      "\t{42, 4},\n",
      "\t{41, 3},\n",
      "\t{40, 4},\n",
      "\t{39, 4},\n",
      "\t{38, 5},\n",
      "\t{37, 5},\n",
      "\t{36, 5},\n",
      "\t{35, 6},\n",
      "\t{34, 7},\n",
      "\t{33, 7},\n",
      "\t{32, 7},\n",
      "\t{31, 9},\n",
      "\t{30, 9},\n",
      "\t{29, 10},\n",
      "\t{28, 12},\n",
      "\t{27, 13},\n",
      "\t{26, 14},\n",
      "\t{25, 17},\n",
      "\t{24, 18},\n",
      "\t{23, 21},\n",
      "\t{22, 24},\n",
      "\t{21, 27},\n",
      "\t{20, 33},\n",
      "\t{19, 37},\n",
      "\t{18, 44},\n",
      "\t{17, 53},\n",
      "\t{16, 64},\n",
      "\t{15, 77},\n",
      "\t{14, 96},\n",
      "\t{13, 120},\n",
      "\t{12, 255},\n",
      "\t{12, 255},\n",
      "\t{12, 255},\n",
      "\t{12, 255},\n",
      "\t{12, 255},\n",
      "\t{12, 255},\n",
      "\t{12, 255},\n",
      "\t{12, 255},\n",
      "\t{12, 255},\n",
      "\t{12, 255},\n",
      "\t{12, 255},\n",
      "\t{12, 255},\n",
      "\t{12, 255},\n",
      "\t{12, 255},\n",
      "\t{12, 255},\n",
      "\t{12, 255},\n",
      "\t{12, 255},\n",
      "\t{12, 255},\n",
      "\t{12, 255},\n",
      "\t{12, 255},\n",
      "\t{12, 255},\n",
      "\t{12, 255},\n",
      "\t{12, 255},\n",
      "\t{12, 255},\n",
      "\t{12, 248},\n",
      "\t{13, 120},\n",
      "\t{14, 96},\n",
      "\t{15, 77},\n",
      "\t{16, 64},\n",
      "\t{17, 53},\n",
      "\t{18, 44},\n",
      "\t{19, 38},\n",
      "\t{20, 32},\n",
      "\t{21, 28},\n",
      "\t{22, 24},\n",
      "\t{23, 21},\n",
      "\t{24, 18},\n",
      "\t{25, 16},\n",
      "\t{26, 15},\n",
      "\t{27, 13},\n",
      "\t{28, 11},\n",
      "\t{29, 11},\n",
      "\t{30, 9},\n",
      "\t{31, 9},\n",
      "\t{32, 7},\n",
      "\t{33, 7},\n",
      "\t{34, 7},\n",
      "\t{35, 6},\n",
      "\t{36, 5},\n",
      "\t{37, 5},\n",
      "\t{38, 5},\n",
      "\t{39, 4},\n",
      "\t{40, 4},\n",
      "\t{41, 3},\n",
      "\t{42, 4},\n",
      "\t{43, 3},\n",
      "\t{44, 3},\n",
      "\t{45, 3},\n",
      "\t{46, 2},\n",
      "\t{47, 3},\n",
      "\t{48, 2},\n",
      "\t{49, 2},\n",
      "\t{50, 2},\n",
      "\t{51, 2},\n",
      "\t{52, 2},\n",
      "\t{53, 1},\n",
      "\t{54, 2},\n",
      "\t{55, 2},\n",
      "\t{56, 1},\n",
      "\t{57, 1},\n",
      "\t{58, 2},\n",
      "\t{59, 1},\n",
      "\t{60, 1},\n",
      "\t{61, 1},\n",
      "\t{62, 1},\n",
      "\t{63, 1},\n",
      "\t{64, 1},\n",
      "\t{65, 1},\n",
      "\t{66, 1},\n",
      "\t{67, 1},\n",
      "\t{68, 1},\n",
      "\t{70, 1},\n",
      "\t{71, 1},\n",
      "\t{73, 1},\n",
      "\t{74, 1},\n",
      "\t{76, 1},\n",
      "\t{78, 1},\n",
      "\t{80, 1},\n",
      "\t{82, 1},\n",
      "\t{84, 1},\n",
      "\t{87, 1},\n",
      "\t{89, 1},\n",
      "\t{92, 1},\n",
      "\t{96, 1},\n",
      "\t{99, 1},\n",
      "\t{103, 1},\n",
      "\t{108, 1},\n",
      "\t{113, 1},\n",
      "\t{120, 1},\n",
      "\t{127, 1},\n",
      "\t{136, 1},\n",
      "\t{147, 1},\n",
      "\t{161, 1},\n",
      "\t{180, 1}\n",
      "};\n",
      "\n"
     ]
    }
   ],
   "source": [
    "template = \"\"\"\n",
    "static constexpr TrajectoryBlock movement_plan[] = {{\n",
    "\\t{}\n",
    "}};\n",
    "\"\"\"\n",
    "\n",
    "generated_code = template.format(\n",
    "    \",\\n\\t\".join([*(f\"{{{k}, {n}}}\" for k, n in movement_plan)])\n",
    ")\n",
    "\n",
    "print(generated_code)"
   ]
  },
  {
   "cell_type": "markdown",
   "id": "34796f71",
   "metadata": {},
   "source": []
  },
  {
   "cell_type": "code",
   "execution_count": 31,
   "id": "db474552",
   "metadata": {},
   "outputs": [
    {
     "data": {
      "text/plain": [
       "'{255, 1},\\n{202, 1},\\n{173, 1},\\n{154, 1},\\n{141, 1},\\n{130, 1},\\n{122, 1},\\n{115, 1},\\n{109, 1},\\n{104, 1},\\n{100, 1},\\n{96, 1},\\n{92, 1},\\n{89, 1},\\n{87, 1},\\n{84, 1},\\n{82, 1},\\n{79, 1},\\n{78, 1},\\n{76, 1},\\n{74, 1},\\n{72, 1},\\n{71, 1},\\n{69, 1},\\n{68, 1},\\n{67, 1},\\n{66, 1},\\n{65, 1},\\n{64, 1},\\n{63, 1},\\n{62, 1},\\n{61, 1},\\n{60, 1},\\n{59, 1},\\n{58, 1},\\n{57, 2},\\n{56, 1},\\n{55, 1},\\n{54, 2},\\n{53, 2},\\n{52, 1},\\n{51, 2},\\n{50, 2},\\n{49, 2},\\n{48, 3},\\n{47, 2},\\n{46, 3},\\n{45, 2},\\n{44, 3},\\n{43, 3},\\n{42, 4},\\n{41, 3},\\n{40, 4},\\n{39, 4},\\n{38, 5},\\n{37, 5},\\n{36, 5},\\n{35, 6},\\n{34, 7},\\n{33, 7},\\n{32, 7},\\n{31, 9},\\n{30, 9},\\n{29, 10},\\n{28, 12},\\n{27, 13},\\n{26, 14},\\n{25, 17},\\n{24, 18},\\n{23, 21},\\n{22, 24},\\n{21, 27},\\n{20, 33},\\n{19, 37},\\n{18, 44},\\n{17, 53},\\n{16, 64},\\n{15, 77},\\n{14, 96},\\n{13, 120},\\n{12, 255},\\n{12, 255},\\n{12, 255},\\n{12, 255},\\n{12, 255},\\n{12, 255},\\n{12, 255},\\n{12, 255},\\n{12, 255},\\n{12, 255},\\n{12, 255},\\n{12, 255},\\n{12, 255},\\n{12, 255},\\n{12, 255},\\n{12, 255},\\n{12, 255},\\n{12, 255},\\n{12, 255},\\n{12, 255},\\n{12, 255},\\n{12, 255},\\n{12, 255},\\n{12, 255},\\n{12, 248},\\n{13, 120},\\n{14, 96},\\n{15, 77},\\n{16, 64},\\n{17, 53},\\n{18, 44},\\n{19, 38},\\n{20, 32},\\n{21, 28},\\n{22, 24},\\n{23, 21},\\n{24, 18},\\n{25, 16},\\n{26, 15},\\n{27, 13},\\n{28, 11},\\n{29, 11},\\n{30, 9},\\n{31, 9},\\n{32, 7},\\n{33, 7},\\n{34, 7},\\n{35, 6},\\n{36, 5},\\n{37, 5},\\n{38, 5},\\n{39, 4},\\n{40, 4},\\n{41, 3},\\n{42, 4},\\n{43, 3},\\n{44, 3},\\n{45, 3},\\n{46, 2},\\n{47, 3},\\n{48, 2},\\n{49, 2},\\n{50, 2},\\n{51, 2},\\n{52, 2},\\n{53, 1},\\n{54, 2},\\n{55, 2},\\n{56, 1},\\n{57, 1},\\n{58, 2},\\n{59, 1},\\n{60, 1},\\n{61, 1},\\n{62, 1},\\n{63, 1},\\n{64, 1},\\n{65, 1},\\n{66, 1},\\n{67, 1},\\n{68, 1},\\n{70, 1},\\n{71, 1},\\n{73, 1},\\n{74, 1},\\n{76, 1},\\n{78, 1},\\n{80, 1},\\n{82, 1},\\n{84, 1},\\n{87, 1},\\n{89, 1},\\n{92, 1},\\n{96, 1},\\n{99, 1},\\n{103, 1},\\n{108, 1},\\n{113, 1},\\n{120, 1},\\n{127, 1},\\n{136, 1},\\n{147, 1},\\n{161, 1},\\n{180, 1}'"
      ]
     },
     "execution_count": 31,
     "metadata": {},
     "output_type": "execute_result"
    }
   ],
   "source": []
  },
  {
   "cell_type": "code",
   "execution_count": null,
   "id": "3a94be39",
   "metadata": {},
   "outputs": [],
   "source": []
  }
 ],
 "metadata": {
  "kernelspec": {
   "display_name": "linstep",
   "language": "python",
   "name": "linstep"
  },
  "language_info": {
   "codemirror_mode": {
    "name": "ipython",
    "version": 3
   },
   "file_extension": ".py",
   "mimetype": "text/x-python",
   "name": "python",
   "nbconvert_exporter": "python",
   "pygments_lexer": "ipython3",
   "version": "3.11.5"
  },
  "vscode": {
   "interpreter": {
    "hash": "f92b2924b84ff19c1c3dc485f7644d4486f64738191026bf8e6de303969141b5"
   }
  }
 },
 "nbformat": 4,
 "nbformat_minor": 5
}
